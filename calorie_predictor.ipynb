{
  "cells": [
    {
      "cell_type": "markdown",
      "metadata": {
        "id": "8gCQagsTmP2Y"
      },
      "source": [
        "**PROJECT MAIN**"
      ]
    },
    {
      "cell_type": "markdown",
      "metadata": {
        "id": "nj9WsZP1o-31"
      },
      "source": [
        "Load Images Dataset"
      ]
    },
    {
      "cell_type": "code",
      "execution_count": null,
      "metadata": {
        "colab": {
          "base_uri": "https://localhost:8080/"
        },
        "id": "f3BPjCRZhHUX",
        "outputId": "eef96b04-667b-42b2-ba1c-c417808af21a"
      },
      "outputs": [
        {
          "name": "stdout",
          "output_type": "stream",
          "text": [
            "Downloading from https://www.kaggle.com/api/v1/datasets/download/kmader/food41?dataset_version_number=5...\n"
          ]
        },
        {
          "name": "stderr",
          "output_type": "stream",
          "text": [
            "100%|██████████| 5.30G/5.30G [00:55<00:00, 102MB/s]"
          ]
        },
        {
          "name": "stdout",
          "output_type": "stream",
          "text": [
            "Extracting files...\n"
          ]
        },
        {
          "name": "stderr",
          "output_type": "stream",
          "text": [
            "\n"
          ]
        },
        {
          "name": "stdout",
          "output_type": "stream",
          "text": [
            "Path to dataset files: /root/.cache/kagglehub/datasets/kmader/food41/versions/5\n"
          ]
        }
      ],
      "source": [
        "import kagglehub\n",
        "\n",
        "# Download latest version\n",
        "path = kagglehub.dataset_download(\"kmader/food41\")\n",
        "\n",
        "print(\"Path to dataset files:\", path)\n"
      ]
    },
    {
      "cell_type": "code",
      "execution_count": null,
      "metadata": {
        "id": "0qlq6CvnuS6w"
      },
      "outputs": [],
      "source": []
    },
    {
      "cell_type": "code",
      "execution_count": null,
      "metadata": {
        "colab": {
          "base_uri": "https://localhost:8080/"
        },
        "id": "_W4JKIDQwPZq",
        "outputId": "51759af3-4dd2-4d1c-bc6e-a43896271864"
      },
      "outputs": [
        {
          "name": "stdout",
          "output_type": "stream",
          "text": [
            "['archive (1)']\n"
          ]
        }
      ],
      "source": [
        "import os\n",
        "\n",
        "data_path = 'drive/MyDrive/DSdata'\n",
        "\n",
        "food_names = []\n",
        "\n",
        "# Extract food names from folders\n",
        "for food_name in os.listdir(data_path):\n",
        "  full_path = os.path.join(data_path, food_name)\n",
        "  if os.path.isdir(full_path):\n",
        "    food_names.append(food_name)\n",
        "\n",
        "print(food_names)"
      ]
    },
    {
      "cell_type": "code",
      "execution_count": null,
      "metadata": {
        "id": "6opMW_FUzvtJ"
      },
      "outputs": [
        {
          "name": "stderr",
          "output_type": "stream",
          "text": [
            "Resizing apple_pie: 100%|██████████| 1000/1000 [00:15<00:00, 65.36it/s]\n",
            "Resizing baby_back_ribs: 100%|██████████| 1000/1000 [00:16<00:00, 61.35it/s]\n",
            "Resizing baklava: 100%|██████████| 1000/1000 [00:14<00:00, 67.60it/s]\n",
            "Resizing beef_carpaccio: 100%|██████████| 1000/1000 [00:13<00:00, 72.89it/s]\n",
            "Resizing beef_tartare: 100%|██████████| 1000/1000 [00:16<00:00, 61.35it/s]\n",
            "Resizing beet_salad: 100%|██████████| 1000/1000 [00:16<00:00, 59.25it/s]\n",
            "Resizing beignets:  17%|█▋        | 166/1000 [00:02<00:12, 66.45it/s]"
          ]
        }
      ],
      "source": [
        "# Downscale images (ChatGPT)\n",
        "# Take our raw images\n",
        "import os\n",
        "from PIL import Image\n",
        "from tqdm import tqdm\n",
        "\n",
        "# Source and target directories\n",
        "SRC_DIR = \"images\"        # original images folder with class subfolders\n",
        "DST_DIR = \"food-128\"      # output folder\n",
        "\n",
        "size = (128, 128)  # target resolution\n",
        "\n",
        "# Create output root directory\n",
        "os.makedirs(DST_DIR, exist_ok=True)\n",
        "\n",
        "# Loop through every class folder\n",
        "for class_name in os.listdir(SRC_DIR):\n",
        "    src_class_path = os.path.join(SRC_DIR, class_name)\n",
        "    dst_class_path = os.path.join(DST_DIR, class_name)\n",
        "\n",
        "    # Skip non-directories (just in case)\n",
        "    if not os.path.isdir(src_class_path):\n",
        "        continue\n",
        "\n",
        "    os.makedirs(dst_class_path, exist_ok=True)\n",
        "\n",
        "    # Resize each image\n",
        "    for img_name in tqdm(os.listdir(src_class_path), desc=f\"Resizing {class_name[:20]}\"):\n",
        "        src_img_path = os.path.join(src_class_path, img_name)\n",
        "        dst_img_path = os.path.join(dst_class_path, img_name)\n",
        "\n",
        "        try:\n",
        "            img = Image.open(src_img_path).convert(\"RGB\")\n",
        "            img = img.resize(size, Image.BILINEAR)\n",
        "            img.save(dst_img_path, quality=90)\n",
        "        except Exception as e:\n",
        "            print(f\"Skipped {src_img_path}: {e}\")\n",
        "\n",
        "print(\"All images resized to 128x128 and saved in food-128/\")"
      ]
    }
  ],
  "metadata": {
    "colab": {
      "provenance": []
    },
    "kernelspec": {
      "display_name": "venv",
      "language": "python",
      "name": "python3"
    },
    "language_info": {
      "codemirror_mode": {
        "name": "ipython",
        "version": 3
      },
      "file_extension": ".py",
      "mimetype": "text/x-python",
      "name": "python",
      "nbconvert_exporter": "python",
      "pygments_lexer": "ipython3",
      "version": "3.12.6"
    }
  },
  "nbformat": 4,
  "nbformat_minor": 0
}
